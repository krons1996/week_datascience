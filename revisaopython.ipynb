{
 "cells": [
  {
   "cell_type": "markdown",
   "metadata": {},
   "source": [
    "# LISTA"
   ]
  },
  {
   "cell_type": "code",
   "execution_count": 47,
   "metadata": {},
   "outputs": [
    {
     "data": {
      "text/plain": [
       "list"
      ]
     },
     "execution_count": 47,
     "metadata": {},
     "output_type": "execute_result"
    }
   ],
   "source": [
    "# mutável\n",
    "# colchete\n",
    "tipos_imoveis = ['residencial', 'comercial', 'fazenda']\n",
    "\n",
    "type(tipos_imoveis)"
   ]
  },
  {
   "cell_type": "markdown",
   "metadata": {},
   "source": [
    "# TUPLA"
   ]
  },
  {
   "cell_type": "code",
   "execution_count": 48,
   "metadata": {},
   "outputs": [
    {
     "data": {
      "text/plain": [
       "tuple"
      ]
     },
     "execution_count": 48,
     "metadata": {},
     "output_type": "execute_result"
    }
   ],
   "source": [
    "# imutável\n",
    "# parêntese\n",
    "tipos_imoveis = ('residencial', 'comercial', 'fazenda')\n",
    "\n",
    "type(tipos_imoveis)"
   ]
  },
  {
   "cell_type": "markdown",
   "metadata": {},
   "source": [
    "# CONJUNTO"
   ]
  },
  {
   "cell_type": "code",
   "execution_count": 49,
   "metadata": {},
   "outputs": [
    {
     "data": {
      "text/plain": [
       "set"
      ]
     },
     "execution_count": 49,
     "metadata": {},
     "output_type": "execute_result"
    }
   ],
   "source": [
    "# dados únicos que não se repetem\n",
    "# chave\n",
    "tipos_imoveis = {'residencial', 'comercial', 'fazenda'}\n",
    "type(tipos_imoveis)"
   ]
  },
  {
   "cell_type": "markdown",
   "metadata": {},
   "source": [
    " - Cire uma lista de vitória do seu time\n",
    " - Crie uma tupla de fastfood\n",
    " - Crie um conjunto de itens de compra do supermercado."
   ]
  },
  {
   "cell_type": "code",
   "execution_count": 50,
   "metadata": {},
   "outputs": [
    {
     "data": {
      "text/plain": [
       "list"
      ]
     },
     "execution_count": 50,
     "metadata": {},
     "output_type": "execute_result"
    }
   ],
   "source": [
    "#list\n",
    "vitoria_copa = ['1958','1962','1970','1994','2002']\n",
    "\n",
    "type(vitoria_copa)\n"
   ]
  },
  {
   "cell_type": "code",
   "execution_count": 51,
   "metadata": {},
   "outputs": [
    {
     "data": {
      "text/plain": [
       "['1958', '1962', '1970', '1994', '2002']"
      ]
     },
     "execution_count": 51,
     "metadata": {},
     "output_type": "execute_result"
    }
   ],
   "source": [
    "vitoria_copa"
   ]
  },
  {
   "cell_type": "code",
   "execution_count": 52,
   "metadata": {},
   "outputs": [
    {
     "data": {
      "text/plain": [
       "tuple"
      ]
     },
     "execution_count": 52,
     "metadata": {},
     "output_type": "execute_result"
    }
   ],
   "source": [
    "#tupla\n",
    "fastfood = (\"McDonald\",\"BurgerKing\",\"Giraffas\",\"Bob's\",\"Habib's\")\n",
    "\n",
    "type(fastfood)"
   ]
  },
  {
   "cell_type": "code",
   "execution_count": 53,
   "metadata": {},
   "outputs": [
    {
     "data": {
      "text/plain": [
       "('McDonald', 'BurgerKing', 'Giraffas', \"Bob's\", \"Habib's\")"
      ]
     },
     "execution_count": 53,
     "metadata": {},
     "output_type": "execute_result"
    }
   ],
   "source": [
    "fastfood"
   ]
  },
  {
   "cell_type": "code",
   "execution_count": 54,
   "metadata": {},
   "outputs": [
    {
     "data": {
      "text/plain": [
       "set"
      ]
     },
     "execution_count": 54,
     "metadata": {},
     "output_type": "execute_result"
    }
   ],
   "source": [
    "#set ou conjunto\n",
    "\n",
    "compras = {'cafe','cafe','leite','peito de frago','pão','ovo'}\n",
    "type(compras)"
   ]
  },
  {
   "cell_type": "code",
   "execution_count": 55,
   "metadata": {},
   "outputs": [
    {
     "data": {
      "text/plain": [
       "{'cafe', 'leite', 'ovo', 'peito de frago', 'pão'}"
      ]
     },
     "execution_count": 55,
     "metadata": {},
     "output_type": "execute_result"
    }
   ],
   "source": [
    "compras"
   ]
  },
  {
   "cell_type": "markdown",
   "metadata": {},
   "source": [
    "# DICIONÁRIO"
   ]
  },
  {
   "cell_type": "code",
   "execution_count": 56,
   "metadata": {},
   "outputs": [
    {
     "name": "stdout",
     "output_type": "stream",
     "text": [
      "3\n"
     ]
    }
   ],
   "source": [
    "#Criando um dicionário com informações sobre:\n",
    "apartamento = {\n",
    "    \"taguatinga\": 3,\n",
    "    \"brazlândia\": 5,\n",
    "    \"ceilândia\": 2\n",
    "}\n",
    "#Acessando os valores no dicionário:\n",
    "print(apartamento[\"taguatinga\"])"
   ]
  },
  {
   "cell_type": "code",
   "execution_count": 57,
   "metadata": {},
   "outputs": [
    {
     "data": {
      "text/plain": [
       "{'taguatinga': 3, 'brazlândia': 5, 'ceilândia': 2, 'candangolândia': 4}"
      ]
     },
     "execution_count": 57,
     "metadata": {},
     "output_type": "execute_result"
    }
   ],
   "source": [
    "#Adicionando um novo apartamento\n",
    "apartamento[\"candangolândia\"] = 4\n",
    "apartamento"
   ]
  },
  {
   "cell_type": "code",
   "execution_count": 58,
   "metadata": {},
   "outputs": [
    {
     "name": "stdout",
     "output_type": "stream",
     "text": [
      "taguatinga: 3\n",
      "brazlândia: 5\n",
      "ceilândia: 2\n",
      "candangolândia: 4\n"
     ]
    }
   ],
   "source": [
    "# Iterando sobre as chaves valores\n",
    "# forma de percorrer um dicionário\n",
    "for apartamento, quantidade in apartamento.items():\n",
    "    print(f\"{apartamento}: {quantidade}\")"
   ]
  },
  {
   "cell_type": "code",
   "execution_count": 59,
   "metadata": {},
   "outputs": [],
   "source": [
    "# Estudos para quinta e sexta\n",
    "\n",
    "\"\"\"\n",
    "---Quinta-Feira---\n",
    "\n",
    "Orientação a objetos\n",
    "-Paradigma\n",
    "-Objeto\n",
    "-Classe\n",
    "-\"Método\"\n",
    "-\"Herança\"\n",
    "-\"Polimorfismo\"\n",
    "-\"Encapsulamento\"\n",
    "\n",
    "---Sexta-Feira---\n",
    "Estatística\n",
    "\n",
    "-\"Média\"\n",
    "-\"Mediana\"\n",
    "-\"Moda\"\n",
    "-\"Quartis\"\n",
    "-\"Desvio Padrão\"\"\"\n",
    "\n",
    "quinta_estudo_oo = {\n",
    "    \"Paradigma\": 15,\n",
    "    \"Objeto\": 10,\n",
    "    \"Classe\": 20,\n",
    "    \"Método\": 20,\n",
    "    \"Herança\": 30,\n",
    "    \"Polimorfismo\": 40,\n",
    "    \"Encapsulamento\": 60\n",
    "}\n",
    "\n",
    "sexta_estudo_estatistica = {\n",
    "    \"Média\": 15,\n",
    "    \"Mediana\": 20,\n",
    "    \"Moda\": 30,\n",
    "    \"Quartis\": 30,\n",
    "    \"Desvio Padrão\": 40  \n",
    "}"
   ]
  },
  {
   "cell_type": "code",
   "execution_count": 60,
   "metadata": {},
   "outputs": [
    {
     "name": "stdout",
     "output_type": "stream",
     "text": [
      "Paradigma: 15\n",
      "Objeto: 10\n",
      "Classe: 20\n",
      "Método: 20\n",
      "Herança: 30\n",
      "Polimorfismo: 40\n",
      "Encapsulamento: 60\n"
     ]
    }
   ],
   "source": [
    "# Iterando sobre as chaves valores\n",
    "# forma de percorrer um dicionário\n",
    "for quinta_estudo_oo, quantidade in quinta_estudo_oo.items():\n",
    "    print(f\"{quinta_estudo_oo}: {quantidade}\")"
   ]
  },
  {
   "cell_type": "code",
   "execution_count": 61,
   "metadata": {},
   "outputs": [
    {
     "name": "stdout",
     "output_type": "stream",
     "text": [
      "Média: 15\n",
      "Mediana: 20\n",
      "Moda: 30\n",
      "Quartis: 30\n",
      "Desvio Padrão: 40\n"
     ]
    }
   ],
   "source": [
    "# Iterando sobre as chaves valores\n",
    "# forma de percorrer um dicionário\n",
    "for sexta_estudo_estatistica, quantidade in sexta_estudo_estatistica.items():\n",
    "    print(f\"{sexta_estudo_estatistica}: {quantidade}\")"
   ]
  }
 ],
 "metadata": {
  "kernelspec": {
   "display_name": ".venv",
   "language": "python",
   "name": "python3"
  },
  "language_info": {
   "codemirror_mode": {
    "name": "ipython",
    "version": 3
   },
   "file_extension": ".py",
   "mimetype": "text/x-python",
   "name": "python",
   "nbconvert_exporter": "python",
   "pygments_lexer": "ipython3",
   "version": "3.12.4"
  }
 },
 "nbformat": 4,
 "nbformat_minor": 2
}
